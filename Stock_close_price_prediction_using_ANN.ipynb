{
  "nbformat": 4,
  "nbformat_minor": 0,
  "metadata": {
    "colab": {
      "name": "Stock close price prediction using ANN.ipynb",
      "provenance": [],
      "collapsed_sections": [],
      "mount_file_id": "1BDN8NMtHE6UzvRyCRt6O5b-Gx_J9roT9",
      "authorship_tag": "ABX9TyOET2Y9LYx9HOEjsqD4oubO",
      "include_colab_link": true
    },
    "kernelspec": {
      "name": "python3",
      "display_name": "Python 3"
    },
    "language_info": {
      "name": "python"
    }
  },
  "cells": [
    {
      "cell_type": "markdown",
      "metadata": {
        "id": "view-in-github",
        "colab_type": "text"
      },
      "source": [
        "<a href=\"https://colab.research.google.com/github/rainaa0277/Predicting-Stock-Close-Price-using-ANN/blob/main/Stock_close_price_prediction_using_ANN.ipynb\" target=\"_parent\"><img src=\"https://colab.research.google.com/assets/colab-badge.svg\" alt=\"Open In Colab\"/></a>"
      ]
    },
    {
      "cell_type": "code",
      "execution_count": null,
      "metadata": {
        "id": "hdbbr8XLZxOI"
      },
      "outputs": [],
      "source": [
        "# pip install tensorflow==2.0.0"
      ]
    },
    {
      "cell_type": "code",
      "source": [
        "import tensorflow as tf\n",
        "print(tf.__version__)"
      ],
      "metadata": {
        "colab": {
          "base_uri": "https://localhost:8080/"
        },
        "id": "_XW_jjyoa3pN",
        "outputId": "88f6f430-9c2b-43c2-e6eb-0f781f4af545"
      },
      "execution_count": 2,
      "outputs": [
        {
          "output_type": "stream",
          "name": "stdout",
          "text": [
            "2.0.0\n"
          ]
        }
      ]
    },
    {
      "cell_type": "code",
      "source": [
        "import pandas as pd\n",
        "import numpy as np\n",
        "import matplotlib.pyplot as plt\n",
        "import seaborn as sns\n",
        "from sklearn.preprocessing import StandardScaler\n",
        "from sklearn.model_selection import train_test_split\n",
        "import math\n",
        "from tensorflow.keras.models import Sequential\n",
        "from tensorflow.keras.layers import Dense, Dropout\n",
        "from tensorflow.keras.optimizers import SGD, Adam\n",
        "import os\n",
        "from sklearn.metrics import mean_squared_error, r2_score"
      ],
      "metadata": {
        "id": "84_lkMFcbVXO"
      },
      "execution_count": 67,
      "outputs": []
    },
    {
      "cell_type": "code",
      "source": [
        "from google.colab import drive"
      ],
      "metadata": {
        "id": "Vbzy-PvTciDg"
      },
      "execution_count": 10,
      "outputs": []
    },
    {
      "cell_type": "code",
      "source": [
        "!dir"
      ],
      "metadata": {
        "colab": {
          "base_uri": "https://localhost:8080/"
        },
        "id": "-iHQUCIncyYU",
        "outputId": "f5fc1bcb-64a6-4185-bea5-80ad8ac89097"
      },
      "execution_count": 11,
      "outputs": [
        {
          "output_type": "stream",
          "name": "stdout",
          "text": [
            "sample_data\n"
          ]
        }
      ]
    },
    {
      "cell_type": "code",
      "source": [
        "os.chdir(\"/content/drive\")"
      ],
      "metadata": {
        "id": "aIWYV6H1dChZ"
      },
      "execution_count": 13,
      "outputs": []
    },
    {
      "cell_type": "code",
      "source": [
        "!dir"
      ],
      "metadata": {
        "id": "F6V4Fhy-dJZK"
      },
      "execution_count": null,
      "outputs": []
    },
    {
      "cell_type": "code",
      "source": [
        "os.chdir(\"/content/drive/MyDrive/Deep Learning/Practice ANN/ANN 6 - Stock price prediction\")"
      ],
      "metadata": {
        "id": "QAwEIaAHdNbs"
      },
      "execution_count": 40,
      "outputs": []
    },
    {
      "cell_type": "code",
      "source": [
        "!dir"
      ],
      "metadata": {
        "colab": {
          "base_uri": "https://localhost:8080/"
        },
        "id": "_VJ9pOQXdWJY",
        "outputId": "bd177e61-e381-4482-bfdb-338caef2ec35"
      },
      "execution_count": 41,
      "outputs": [
        {
          "output_type": "stream",
          "name": "stdout",
          "text": [
            "data.csv  Stock\\ price\\ prediction\\ using\\ ANN.ipynb\n"
          ]
        }
      ]
    },
    {
      "cell_type": "code",
      "source": [
        "df = pd.read_csv(\"data.csv\")\n",
        "df.head()"
      ],
      "metadata": {
        "colab": {
          "base_uri": "https://localhost:8080/",
          "height": 206
        },
        "id": "b8UxVuTBdXZk",
        "outputId": "d1027210-1ec0-4e7b-e4b5-9d5ac7843014"
      },
      "execution_count": 42,
      "outputs": [
        {
          "output_type": "execute_result",
          "data": {
            "text/html": [
              "\n",
              "  <div id=\"df-a9a1c0e9-ee20-4a20-880e-480d2334c6e9\">\n",
              "    <div class=\"colab-df-container\">\n",
              "      <div>\n",
              "<style scoped>\n",
              "    .dataframe tbody tr th:only-of-type {\n",
              "        vertical-align: middle;\n",
              "    }\n",
              "\n",
              "    .dataframe tbody tr th {\n",
              "        vertical-align: top;\n",
              "    }\n",
              "\n",
              "    .dataframe thead th {\n",
              "        text-align: right;\n",
              "    }\n",
              "</style>\n",
              "<table border=\"1\" class=\"dataframe\">\n",
              "  <thead>\n",
              "    <tr style=\"text-align: right;\">\n",
              "      <th></th>\n",
              "      <th>Date</th>\n",
              "      <th>Open</th>\n",
              "      <th>High</th>\n",
              "      <th>Low</th>\n",
              "      <th>Close</th>\n",
              "      <th>Adj Close</th>\n",
              "      <th>Volume</th>\n",
              "    </tr>\n",
              "  </thead>\n",
              "  <tbody>\n",
              "    <tr>\n",
              "      <th>0</th>\n",
              "      <td>2010-08-27</td>\n",
              "      <td>9982.179688</td>\n",
              "      <td>10159.879883</td>\n",
              "      <td>9936.620117</td>\n",
              "      <td>10150.650391</td>\n",
              "      <td>10150.650391</td>\n",
              "      <td>207760000</td>\n",
              "    </tr>\n",
              "    <tr>\n",
              "      <th>1</th>\n",
              "      <td>2010-08-30</td>\n",
              "      <td>10145.580078</td>\n",
              "      <td>10150.570313</td>\n",
              "      <td>10007.679688</td>\n",
              "      <td>10009.730469</td>\n",
              "      <td>10009.730469</td>\n",
              "      <td>150480000</td>\n",
              "    </tr>\n",
              "    <tr>\n",
              "      <th>2</th>\n",
              "      <td>2010-08-31</td>\n",
              "      <td>10006.419922</td>\n",
              "      <td>10073.379883</td>\n",
              "      <td>9941.839844</td>\n",
              "      <td>10014.719727</td>\n",
              "      <td>10014.719727</td>\n",
              "      <td>255420000</td>\n",
              "    </tr>\n",
              "    <tr>\n",
              "      <th>3</th>\n",
              "      <td>2010-09-01</td>\n",
              "      <td>10016.009766</td>\n",
              "      <td>10279.080078</td>\n",
              "      <td>10016.009766</td>\n",
              "      <td>10269.469727</td>\n",
              "      <td>10269.469727</td>\n",
              "      <td>205710000</td>\n",
              "    </tr>\n",
              "    <tr>\n",
              "      <th>4</th>\n",
              "      <td>2010-09-02</td>\n",
              "      <td>10270.080078</td>\n",
              "      <td>10320.370117</td>\n",
              "      <td>10253.959961</td>\n",
              "      <td>10320.099609</td>\n",
              "      <td>10320.099609</td>\n",
              "      <td>149930000</td>\n",
              "    </tr>\n",
              "  </tbody>\n",
              "</table>\n",
              "</div>\n",
              "      <button class=\"colab-df-convert\" onclick=\"convertToInteractive('df-a9a1c0e9-ee20-4a20-880e-480d2334c6e9')\"\n",
              "              title=\"Convert this dataframe to an interactive table.\"\n",
              "              style=\"display:none;\">\n",
              "        \n",
              "  <svg xmlns=\"http://www.w3.org/2000/svg\" height=\"24px\"viewBox=\"0 0 24 24\"\n",
              "       width=\"24px\">\n",
              "    <path d=\"M0 0h24v24H0V0z\" fill=\"none\"/>\n",
              "    <path d=\"M18.56 5.44l.94 2.06.94-2.06 2.06-.94-2.06-.94-.94-2.06-.94 2.06-2.06.94zm-11 1L8.5 8.5l.94-2.06 2.06-.94-2.06-.94L8.5 2.5l-.94 2.06-2.06.94zm10 10l.94 2.06.94-2.06 2.06-.94-2.06-.94-.94-2.06-.94 2.06-2.06.94z\"/><path d=\"M17.41 7.96l-1.37-1.37c-.4-.4-.92-.59-1.43-.59-.52 0-1.04.2-1.43.59L10.3 9.45l-7.72 7.72c-.78.78-.78 2.05 0 2.83L4 21.41c.39.39.9.59 1.41.59.51 0 1.02-.2 1.41-.59l7.78-7.78 2.81-2.81c.8-.78.8-2.07 0-2.86zM5.41 20L4 18.59l7.72-7.72 1.47 1.35L5.41 20z\"/>\n",
              "  </svg>\n",
              "      </button>\n",
              "      \n",
              "  <style>\n",
              "    .colab-df-container {\n",
              "      display:flex;\n",
              "      flex-wrap:wrap;\n",
              "      gap: 12px;\n",
              "    }\n",
              "\n",
              "    .colab-df-convert {\n",
              "      background-color: #E8F0FE;\n",
              "      border: none;\n",
              "      border-radius: 50%;\n",
              "      cursor: pointer;\n",
              "      display: none;\n",
              "      fill: #1967D2;\n",
              "      height: 32px;\n",
              "      padding: 0 0 0 0;\n",
              "      width: 32px;\n",
              "    }\n",
              "\n",
              "    .colab-df-convert:hover {\n",
              "      background-color: #E2EBFA;\n",
              "      box-shadow: 0px 1px 2px rgba(60, 64, 67, 0.3), 0px 1px 3px 1px rgba(60, 64, 67, 0.15);\n",
              "      fill: #174EA6;\n",
              "    }\n",
              "\n",
              "    [theme=dark] .colab-df-convert {\n",
              "      background-color: #3B4455;\n",
              "      fill: #D2E3FC;\n",
              "    }\n",
              "\n",
              "    [theme=dark] .colab-df-convert:hover {\n",
              "      background-color: #434B5C;\n",
              "      box-shadow: 0px 1px 3px 1px rgba(0, 0, 0, 0.15);\n",
              "      filter: drop-shadow(0px 1px 2px rgba(0, 0, 0, 0.3));\n",
              "      fill: #FFFFFF;\n",
              "    }\n",
              "  </style>\n",
              "\n",
              "      <script>\n",
              "        const buttonEl =\n",
              "          document.querySelector('#df-a9a1c0e9-ee20-4a20-880e-480d2334c6e9 button.colab-df-convert');\n",
              "        buttonEl.style.display =\n",
              "          google.colab.kernel.accessAllowed ? 'block' : 'none';\n",
              "\n",
              "        async function convertToInteractive(key) {\n",
              "          const element = document.querySelector('#df-a9a1c0e9-ee20-4a20-880e-480d2334c6e9');\n",
              "          const dataTable =\n",
              "            await google.colab.kernel.invokeFunction('convertToInteractive',\n",
              "                                                     [key], {});\n",
              "          if (!dataTable) return;\n",
              "\n",
              "          const docLinkHtml = 'Like what you see? Visit the ' +\n",
              "            '<a target=\"_blank\" href=https://colab.research.google.com/notebooks/data_table.ipynb>data table notebook</a>'\n",
              "            + ' to learn more about interactive tables.';\n",
              "          element.innerHTML = '';\n",
              "          dataTable['output_type'] = 'display_data';\n",
              "          await google.colab.output.renderOutput(dataTable, element);\n",
              "          const docLink = document.createElement('div');\n",
              "          docLink.innerHTML = docLinkHtml;\n",
              "          element.appendChild(docLink);\n",
              "        }\n",
              "      </script>\n",
              "    </div>\n",
              "  </div>\n",
              "  "
            ],
            "text/plain": [
              "         Date          Open  ...     Adj Close     Volume\n",
              "0  2010-08-27   9982.179688  ...  10150.650391  207760000\n",
              "1  2010-08-30  10145.580078  ...  10009.730469  150480000\n",
              "2  2010-08-31  10006.419922  ...  10014.719727  255420000\n",
              "3  2010-09-01  10016.009766  ...  10269.469727  205710000\n",
              "4  2010-09-02  10270.080078  ...  10320.099609  149930000\n",
              "\n",
              "[5 rows x 7 columns]"
            ]
          },
          "metadata": {},
          "execution_count": 42
        }
      ]
    },
    {
      "cell_type": "code",
      "source": [
        "df.isna().sum()"
      ],
      "metadata": {
        "colab": {
          "base_uri": "https://localhost:8080/"
        },
        "id": "Co5MRzNVddlL",
        "outputId": "c98b8555-a9d0-4449-a0e1-4e242c0733de"
      },
      "execution_count": 43,
      "outputs": [
        {
          "output_type": "execute_result",
          "data": {
            "text/plain": [
              "Date         0\n",
              "Open         0\n",
              "High         0\n",
              "Low          0\n",
              "Close        0\n",
              "Adj Close    0\n",
              "Volume       0\n",
              "dtype: int64"
            ]
          },
          "metadata": {},
          "execution_count": 43
        }
      ]
    },
    {
      "cell_type": "code",
      "source": [
        "df.shape"
      ],
      "metadata": {
        "colab": {
          "base_uri": "https://localhost:8080/"
        },
        "id": "O4xYQphTd2LE",
        "outputId": "55ef820d-14c5-45d9-b729-2e5ccc4e0a38"
      },
      "execution_count": 44,
      "outputs": [
        {
          "output_type": "execute_result",
          "data": {
            "text/plain": [
              "(2014, 7)"
            ]
          },
          "metadata": {},
          "execution_count": 44
        }
      ]
    },
    {
      "cell_type": "code",
      "source": [
        "df.describe()"
      ],
      "metadata": {
        "colab": {
          "base_uri": "https://localhost:8080/",
          "height": 300
        },
        "id": "2wO5ErOQd3o6",
        "outputId": "56c8d992-8e94-444c-9f95-b5f53c2eafce"
      },
      "execution_count": 45,
      "outputs": [
        {
          "output_type": "execute_result",
          "data": {
            "text/html": [
              "\n",
              "  <div id=\"df-34a7e496-73f8-43ff-b926-0a1b44c25253\">\n",
              "    <div class=\"colab-df-container\">\n",
              "      <div>\n",
              "<style scoped>\n",
              "    .dataframe tbody tr th:only-of-type {\n",
              "        vertical-align: middle;\n",
              "    }\n",
              "\n",
              "    .dataframe tbody tr th {\n",
              "        vertical-align: top;\n",
              "    }\n",
              "\n",
              "    .dataframe thead th {\n",
              "        text-align: right;\n",
              "    }\n",
              "</style>\n",
              "<table border=\"1\" class=\"dataframe\">\n",
              "  <thead>\n",
              "    <tr style=\"text-align: right;\">\n",
              "      <th></th>\n",
              "      <th>Open</th>\n",
              "      <th>High</th>\n",
              "      <th>Low</th>\n",
              "      <th>Close</th>\n",
              "      <th>Adj Close</th>\n",
              "      <th>Volume</th>\n",
              "    </tr>\n",
              "  </thead>\n",
              "  <tbody>\n",
              "    <tr>\n",
              "      <th>count</th>\n",
              "      <td>2014.000000</td>\n",
              "      <td>2014.000000</td>\n",
              "      <td>2014.000000</td>\n",
              "      <td>2014.000000</td>\n",
              "      <td>2014.000000</td>\n",
              "      <td>2.014000e+03</td>\n",
              "    </tr>\n",
              "    <tr>\n",
              "      <th>mean</th>\n",
              "      <td>16756.880170</td>\n",
              "      <td>16835.962791</td>\n",
              "      <td>16676.660195</td>\n",
              "      <td>16762.755255</td>\n",
              "      <td>16762.755255</td>\n",
              "      <td>1.699523e+08</td>\n",
              "    </tr>\n",
              "    <tr>\n",
              "      <th>std</th>\n",
              "      <td>3985.884743</td>\n",
              "      <td>3992.888506</td>\n",
              "      <td>3977.350484</td>\n",
              "      <td>3984.242430</td>\n",
              "      <td>3984.242430</td>\n",
              "      <td>1.072222e+08</td>\n",
              "    </tr>\n",
              "    <tr>\n",
              "      <th>min</th>\n",
              "      <td>9982.179688</td>\n",
              "      <td>10073.379883</td>\n",
              "      <td>9936.620117</td>\n",
              "      <td>10009.730469</td>\n",
              "      <td>10009.730469</td>\n",
              "      <td>8.410000e+06</td>\n",
              "    </tr>\n",
              "    <tr>\n",
              "      <th>25%</th>\n",
              "      <td>13104.239746</td>\n",
              "      <td>13175.674805</td>\n",
              "      <td>13045.425049</td>\n",
              "      <td>13107.277588</td>\n",
              "      <td>13107.277588</td>\n",
              "      <td>9.486500e+07</td>\n",
              "    </tr>\n",
              "    <tr>\n",
              "      <th>50%</th>\n",
              "      <td>16566.544922</td>\n",
              "      <td>16652.890625</td>\n",
              "      <td>16500.360352</td>\n",
              "      <td>16571.265625</td>\n",
              "      <td>16571.265625</td>\n",
              "      <td>1.284750e+08</td>\n",
              "    </tr>\n",
              "    <tr>\n",
              "      <th>75%</th>\n",
              "      <td>18282.699219</td>\n",
              "      <td>18350.062988</td>\n",
              "      <td>18205.062500</td>\n",
              "      <td>18287.908203</td>\n",
              "      <td>18287.908203</td>\n",
              "      <td>2.177400e+08</td>\n",
              "    </tr>\n",
              "    <tr>\n",
              "      <th>max</th>\n",
              "      <td>26584.279297</td>\n",
              "      <td>26616.710938</td>\n",
              "      <td>26435.339844</td>\n",
              "      <td>26616.710938</td>\n",
              "      <td>26616.710938</td>\n",
              "      <td>8.239400e+08</td>\n",
              "    </tr>\n",
              "  </tbody>\n",
              "</table>\n",
              "</div>\n",
              "      <button class=\"colab-df-convert\" onclick=\"convertToInteractive('df-34a7e496-73f8-43ff-b926-0a1b44c25253')\"\n",
              "              title=\"Convert this dataframe to an interactive table.\"\n",
              "              style=\"display:none;\">\n",
              "        \n",
              "  <svg xmlns=\"http://www.w3.org/2000/svg\" height=\"24px\"viewBox=\"0 0 24 24\"\n",
              "       width=\"24px\">\n",
              "    <path d=\"M0 0h24v24H0V0z\" fill=\"none\"/>\n",
              "    <path d=\"M18.56 5.44l.94 2.06.94-2.06 2.06-.94-2.06-.94-.94-2.06-.94 2.06-2.06.94zm-11 1L8.5 8.5l.94-2.06 2.06-.94-2.06-.94L8.5 2.5l-.94 2.06-2.06.94zm10 10l.94 2.06.94-2.06 2.06-.94-2.06-.94-.94-2.06-.94 2.06-2.06.94z\"/><path d=\"M17.41 7.96l-1.37-1.37c-.4-.4-.92-.59-1.43-.59-.52 0-1.04.2-1.43.59L10.3 9.45l-7.72 7.72c-.78.78-.78 2.05 0 2.83L4 21.41c.39.39.9.59 1.41.59.51 0 1.02-.2 1.41-.59l7.78-7.78 2.81-2.81c.8-.78.8-2.07 0-2.86zM5.41 20L4 18.59l7.72-7.72 1.47 1.35L5.41 20z\"/>\n",
              "  </svg>\n",
              "      </button>\n",
              "      \n",
              "  <style>\n",
              "    .colab-df-container {\n",
              "      display:flex;\n",
              "      flex-wrap:wrap;\n",
              "      gap: 12px;\n",
              "    }\n",
              "\n",
              "    .colab-df-convert {\n",
              "      background-color: #E8F0FE;\n",
              "      border: none;\n",
              "      border-radius: 50%;\n",
              "      cursor: pointer;\n",
              "      display: none;\n",
              "      fill: #1967D2;\n",
              "      height: 32px;\n",
              "      padding: 0 0 0 0;\n",
              "      width: 32px;\n",
              "    }\n",
              "\n",
              "    .colab-df-convert:hover {\n",
              "      background-color: #E2EBFA;\n",
              "      box-shadow: 0px 1px 2px rgba(60, 64, 67, 0.3), 0px 1px 3px 1px rgba(60, 64, 67, 0.15);\n",
              "      fill: #174EA6;\n",
              "    }\n",
              "\n",
              "    [theme=dark] .colab-df-convert {\n",
              "      background-color: #3B4455;\n",
              "      fill: #D2E3FC;\n",
              "    }\n",
              "\n",
              "    [theme=dark] .colab-df-convert:hover {\n",
              "      background-color: #434B5C;\n",
              "      box-shadow: 0px 1px 3px 1px rgba(0, 0, 0, 0.15);\n",
              "      filter: drop-shadow(0px 1px 2px rgba(0, 0, 0, 0.3));\n",
              "      fill: #FFFFFF;\n",
              "    }\n",
              "  </style>\n",
              "\n",
              "      <script>\n",
              "        const buttonEl =\n",
              "          document.querySelector('#df-34a7e496-73f8-43ff-b926-0a1b44c25253 button.colab-df-convert');\n",
              "        buttonEl.style.display =\n",
              "          google.colab.kernel.accessAllowed ? 'block' : 'none';\n",
              "\n",
              "        async function convertToInteractive(key) {\n",
              "          const element = document.querySelector('#df-34a7e496-73f8-43ff-b926-0a1b44c25253');\n",
              "          const dataTable =\n",
              "            await google.colab.kernel.invokeFunction('convertToInteractive',\n",
              "                                                     [key], {});\n",
              "          if (!dataTable) return;\n",
              "\n",
              "          const docLinkHtml = 'Like what you see? Visit the ' +\n",
              "            '<a target=\"_blank\" href=https://colab.research.google.com/notebooks/data_table.ipynb>data table notebook</a>'\n",
              "            + ' to learn more about interactive tables.';\n",
              "          element.innerHTML = '';\n",
              "          dataTable['output_type'] = 'display_data';\n",
              "          await google.colab.output.renderOutput(dataTable, element);\n",
              "          const docLink = document.createElement('div');\n",
              "          docLink.innerHTML = docLinkHtml;\n",
              "          element.appendChild(docLink);\n",
              "        }\n",
              "      </script>\n",
              "    </div>\n",
              "  </div>\n",
              "  "
            ],
            "text/plain": [
              "               Open          High  ...     Adj Close        Volume\n",
              "count   2014.000000   2014.000000  ...   2014.000000  2.014000e+03\n",
              "mean   16756.880170  16835.962791  ...  16762.755255  1.699523e+08\n",
              "std     3985.884743   3992.888506  ...   3984.242430  1.072222e+08\n",
              "min     9982.179688  10073.379883  ...  10009.730469  8.410000e+06\n",
              "25%    13104.239746  13175.674805  ...  13107.277588  9.486500e+07\n",
              "50%    16566.544922  16652.890625  ...  16571.265625  1.284750e+08\n",
              "75%    18282.699219  18350.062988  ...  18287.908203  2.177400e+08\n",
              "max    26584.279297  26616.710938  ...  26616.710938  8.239400e+08\n",
              "\n",
              "[8 rows x 6 columns]"
            ]
          },
          "metadata": {},
          "execution_count": 45
        }
      ]
    },
    {
      "cell_type": "code",
      "source": [
        "df.info()"
      ],
      "metadata": {
        "colab": {
          "base_uri": "https://localhost:8080/"
        },
        "id": "l0Sq0iR2d_m3",
        "outputId": "b0af500f-b8fa-4011-d8f4-95150eef6781"
      },
      "execution_count": 46,
      "outputs": [
        {
          "output_type": "stream",
          "name": "stdout",
          "text": [
            "<class 'pandas.core.frame.DataFrame'>\n",
            "RangeIndex: 2014 entries, 0 to 2013\n",
            "Data columns (total 7 columns):\n",
            " #   Column     Non-Null Count  Dtype  \n",
            "---  ------     --------------  -----  \n",
            " 0   Date       2014 non-null   object \n",
            " 1   Open       2014 non-null   float64\n",
            " 2   High       2014 non-null   float64\n",
            " 3   Low        2014 non-null   float64\n",
            " 4   Close      2014 non-null   float64\n",
            " 5   Adj Close  2014 non-null   float64\n",
            " 6   Volume     2014 non-null   int64  \n",
            "dtypes: float64(5), int64(1), object(1)\n",
            "memory usage: 110.3+ KB\n"
          ]
        }
      ]
    },
    {
      "cell_type": "code",
      "source": [
        "sns.scatterplot(x = df.Date, y=df.Volume)"
      ],
      "metadata": {
        "colab": {
          "base_uri": "https://localhost:8080/",
          "height": 308
        },
        "id": "jiouCtOmeIFM",
        "outputId": "4e3fcd1b-dc40-46d7-c375-ef0e9caa971c"
      },
      "execution_count": 47,
      "outputs": [
        {
          "output_type": "execute_result",
          "data": {
            "text/plain": [
              "<matplotlib.axes._subplots.AxesSubplot at 0x7f29bb849fd0>"
            ]
          },
          "metadata": {},
          "execution_count": 47
        },
        {
          "output_type": "display_data",
          "data": {
            "image/png": "[encoded data removed]",
            "text/plain": [
              "<Figure size 432x288 with 1 Axes>"
            ]
          },
          "metadata": {
            "needs_background": "light"
          }
        }
      ]
    },
    {
      "cell_type": "code",
      "source": [
        "df.hist(figsize=(10,10))\n",
        "plt.show()"
      ],
      "metadata": {
        "colab": {
          "base_uri": "https://localhost:8080/",
          "height": 621
        },
        "id": "kN4WNRFWeXKA",
        "outputId": "ab00a9e9-6f72-4ff6-d811-850568d887a1"
      },
      "execution_count": 48,
      "outputs": [
        {
          "output_type": "display_data",
          "data": {
            "image/png": "[encoded data removed]",
            "text/plain": [
              "<Figure size 720x720 with 6 Axes>"
            ]
          },
          "metadata": {
            "needs_background": "light"
          }
        }
      ]
    },
    {
      "cell_type": "code",
      "source": [
        "scale = StandardScaler()"
      ],
      "metadata": {
        "id": "anJ4tzdHhGQc"
      },
      "execution_count": 49,
      "outputs": []
    },
    {
      "cell_type": "code",
      "source": [
        "data = df.iloc[:,[1,2,3,5,6]]\n",
        "target = df.iloc[:,4] "
      ],
      "metadata": {
        "id": "75Top4GLexsn"
      },
      "execution_count": 57,
      "outputs": []
    },
    {
      "cell_type": "code",
      "source": [
        "data.head()"
      ],
      "metadata": {
        "colab": {
          "base_uri": "https://localhost:8080/",
          "height": 206
        },
        "id": "NiKilfdSgquq",
        "outputId": "d0842865-571d-42b6-cee2-2bcd1d916432"
      },
      "execution_count": 58,
      "outputs": [
        {
          "output_type": "execute_result",
          "data": {
            "text/html": [
              "\n",
              "  <div id=\"df-e8f188c2-f769-4ab9-803a-100441143dae\">\n",
              "    <div class=\"colab-df-container\">\n",
              "      <div>\n",
              "<style scoped>\n",
              "    .dataframe tbody tr th:only-of-type {\n",
              "        vertical-align: middle;\n",
              "    }\n",
              "\n",
              "    .dataframe tbody tr th {\n",
              "        vertical-align: top;\n",
              "    }\n",
              "\n",
              "    .dataframe thead th {\n",
              "        text-align: right;\n",
              "    }\n",
              "</style>\n",
              "<table border=\"1\" class=\"dataframe\">\n",
              "  <thead>\n",
              "    <tr style=\"text-align: right;\">\n",
              "      <th></th>\n",
              "      <th>Open</th>\n",
              "      <th>High</th>\n",
              "      <th>Low</th>\n",
              "      <th>Adj Close</th>\n",
              "      <th>Volume</th>\n",
              "    </tr>\n",
              "  </thead>\n",
              "  <tbody>\n",
              "    <tr>\n",
              "      <th>0</th>\n",
              "      <td>9982.179688</td>\n",
              "      <td>10159.879883</td>\n",
              "      <td>9936.620117</td>\n",
              "      <td>10150.650391</td>\n",
              "      <td>207760000</td>\n",
              "    </tr>\n",
              "    <tr>\n",
              "      <th>1</th>\n",
              "      <td>10145.580078</td>\n",
              "      <td>10150.570313</td>\n",
              "      <td>10007.679688</td>\n",
              "      <td>10009.730469</td>\n",
              "      <td>150480000</td>\n",
              "    </tr>\n",
              "    <tr>\n",
              "      <th>2</th>\n",
              "      <td>10006.419922</td>\n",
              "      <td>10073.379883</td>\n",
              "      <td>9941.839844</td>\n",
              "      <td>10014.719727</td>\n",
              "      <td>255420000</td>\n",
              "    </tr>\n",
              "    <tr>\n",
              "      <th>3</th>\n",
              "      <td>10016.009766</td>\n",
              "      <td>10279.080078</td>\n",
              "      <td>10016.009766</td>\n",
              "      <td>10269.469727</td>\n",
              "      <td>205710000</td>\n",
              "    </tr>\n",
              "    <tr>\n",
              "      <th>4</th>\n",
              "      <td>10270.080078</td>\n",
              "      <td>10320.370117</td>\n",
              "      <td>10253.959961</td>\n",
              "      <td>10320.099609</td>\n",
              "      <td>149930000</td>\n",
              "    </tr>\n",
              "  </tbody>\n",
              "</table>\n",
              "</div>\n",
              "      <button class=\"colab-df-convert\" onclick=\"convertToInteractive('df-e8f188c2-f769-4ab9-803a-100441143dae')\"\n",
              "              title=\"Convert this dataframe to an interactive table.\"\n",
              "              style=\"display:none;\">\n",
              "        \n",
              "  <svg xmlns=\"http://www.w3.org/2000/svg\" height=\"24px\"viewBox=\"0 0 24 24\"\n",
              "       width=\"24px\">\n",
              "    <path d=\"M0 0h24v24H0V0z\" fill=\"none\"/>\n",
              "    <path d=\"M18.56 5.44l.94 2.06.94-2.06 2.06-.94-2.06-.94-.94-2.06-.94 2.06-2.06.94zm-11 1L8.5 8.5l.94-2.06 2.06-.94-2.06-.94L8.5 2.5l-.94 2.06-2.06.94zm10 10l.94 2.06.94-2.06 2.06-.94-2.06-.94-.94-2.06-.94 2.06-2.06.94z\"/><path d=\"M17.41 7.96l-1.37-1.37c-.4-.4-.92-.59-1.43-.59-.52 0-1.04.2-1.43.59L10.3 9.45l-7.72 7.72c-.78.78-.78 2.05 0 2.83L4 21.41c.39.39.9.59 1.41.59.51 0 1.02-.2 1.41-.59l7.78-7.78 2.81-2.81c.8-.78.8-2.07 0-2.86zM5.41 20L4 18.59l7.72-7.72 1.47 1.35L5.41 20z\"/>\n",
              "  </svg>\n",
              "      </button>\n",
              "      \n",
              "  <style>\n",
              "    .colab-df-container {\n",
              "      display:flex;\n",
              "      flex-wrap:wrap;\n",
              "      gap: 12px;\n",
              "    }\n",
              "\n",
              "    .colab-df-convert {\n",
              "      background-color: #E8F0FE;\n",
              "      border: none;\n",
              "      border-radius: 50%;\n",
              "      cursor: pointer;\n",
              "      display: none;\n",
              "      fill: #1967D2;\n",
              "      height: 32px;\n",
              "      padding: 0 0 0 0;\n",
              "      width: 32px;\n",
              "    }\n",
              "\n",
              "    .colab-df-convert:hover {\n",
              "      background-color: #E2EBFA;\n",
              "      box-shadow: 0px 1px 2px rgba(60, 64, 67, 0.3), 0px 1px 3px 1px rgba(60, 64, 67, 0.15);\n",
              "      fill: #174EA6;\n",
              "    }\n",
              "\n",
              "    [theme=dark] .colab-df-convert {\n",
              "      background-color: #3B4455;\n",
              "      fill: #D2E3FC;\n",
              "    }\n",
              "\n",
              "    [theme=dark] .colab-df-convert:hover {\n",
              "      background-color: #434B5C;\n",
              "      box-shadow: 0px 1px 3px 1px rgba(0, 0, 0, 0.15);\n",
              "      filter: drop-shadow(0px 1px 2px rgba(0, 0, 0, 0.3));\n",
              "      fill: #FFFFFF;\n",
              "    }\n",
              "  </style>\n",
              "\n",
              "      <script>\n",
              "        const buttonEl =\n",
              "          document.querySelector('#df-e8f188c2-f769-4ab9-803a-100441143dae button.colab-df-convert');\n",
              "        buttonEl.style.display =\n",
              "          google.colab.kernel.accessAllowed ? 'block' : 'none';\n",
              "\n",
              "        async function convertToInteractive(key) {\n",
              "          const element = document.querySelector('#df-e8f188c2-f769-4ab9-803a-100441143dae');\n",
              "          const dataTable =\n",
              "            await google.colab.kernel.invokeFunction('convertToInteractive',\n",
              "                                                     [key], {});\n",
              "          if (!dataTable) return;\n",
              "\n",
              "          const docLinkHtml = 'Like what you see? Visit the ' +\n",
              "            '<a target=\"_blank\" href=https://colab.research.google.com/notebooks/data_table.ipynb>data table notebook</a>'\n",
              "            + ' to learn more about interactive tables.';\n",
              "          element.innerHTML = '';\n",
              "          dataTable['output_type'] = 'display_data';\n",
              "          await google.colab.output.renderOutput(dataTable, element);\n",
              "          const docLink = document.createElement('div');\n",
              "          docLink.innerHTML = docLinkHtml;\n",
              "          element.appendChild(docLink);\n",
              "        }\n",
              "      </script>\n",
              "    </div>\n",
              "  </div>\n",
              "  "
            ],
            "text/plain": [
              "           Open          High           Low     Adj Close     Volume\n",
              "0   9982.179688  10159.879883   9936.620117  10150.650391  207760000\n",
              "1  10145.580078  10150.570313  10007.679688  10009.730469  150480000\n",
              "2  10006.419922  10073.379883   9941.839844  10014.719727  255420000\n",
              "3  10016.009766  10279.080078  10016.009766  10269.469727  205710000\n",
              "4  10270.080078  10320.370117  10253.959961  10320.099609  149930000"
            ]
          },
          "metadata": {},
          "execution_count": 58
        }
      ]
    },
    {
      "cell_type": "code",
      "source": [
        "target.tail()"
      ],
      "metadata": {
        "colab": {
          "base_uri": "https://localhost:8080/"
        },
        "id": "uaJi6vCOg2wx",
        "outputId": "57d4c65d-4cf6-43ce-aa35-1d9b35941e5e"
      },
      "execution_count": 59,
      "outputs": [
        {
          "output_type": "execute_result",
          "data": {
            "text/plain": [
              "2009    25822.289063\n",
              "2010    25733.599609\n",
              "2011    25656.980469\n",
              "2012    25790.349609\n",
              "2013    26049.640625\n",
              "Name: Close, dtype: float64"
            ]
          },
          "metadata": {},
          "execution_count": 59
        }
      ]
    },
    {
      "cell_type": "code",
      "source": [
        "scaled_df = scale.fit_transform(data)\n",
        "scaled_df"
      ],
      "metadata": {
        "colab": {
          "base_uri": "https://localhost:8080/"
        },
        "id": "lQFZjMnMg31a",
        "outputId": "b5483c6f-c33a-4b72-e5d2-58db71541ef6"
      },
      "execution_count": 61,
      "outputs": [
        {
          "output_type": "execute_result",
          "data": {
            "text/plain": [
              "array([[-1.70009507, -1.67240857, -1.69502638, -1.65997605,  0.35269814],\n",
              "       [-1.65909013, -1.67474068, -1.67715589, -1.69535415, -0.1816524 ],\n",
              "       [-1.69401204, -1.69407746, -1.69371369, -1.69410159,  0.79730615],\n",
              "       ...,\n",
              "       [ 2.24798371,  2.23617932,  2.24611271,  2.23290482,  0.40409953],\n",
              "       [ 2.24138898,  2.2520841 ,  2.26637257,  2.26638729,  0.28338556],\n",
              "       [ 2.29010566,  2.31258655,  2.31519378,  2.33148258,  0.47163964]])"
            ]
          },
          "metadata": {},
          "execution_count": 61
        }
      ]
    },
    {
      "cell_type": "code",
      "source": [
        "scaled_df = pd.DataFrame(scaled_df, columns=data.columns)\n",
        "scaled_df"
      ],
      "metadata": {
        "colab": {
          "base_uri": "https://localhost:8080/",
          "height": 423
        },
        "id": "g7-I6U4mjuhw",
        "outputId": "13bc1e36-f344-4475-a246-a75d471659e6"
      },
      "execution_count": 63,
      "outputs": [
        {
          "output_type": "execute_result",
          "data": {
            "text/html": [
              "\n",
              "  <div id=\"df-fb7949cb-61c1-4d6a-934b-1f75f2d03007\">\n",
              "    <div class=\"colab-df-container\">\n",
              "      <div>\n",
              "<style scoped>\n",
              "    .dataframe tbody tr th:only-of-type {\n",
              "        vertical-align: middle;\n",
              "    }\n",
              "\n",
              "    .dataframe tbody tr th {\n",
              "        vertical-align: top;\n",
              "    }\n",
              "\n",
              "    .dataframe thead th {\n",
              "        text-align: right;\n",
              "    }\n",
              "</style>\n",
              "<table border=\"1\" class=\"dataframe\">\n",
              "  <thead>\n",
              "    <tr style=\"text-align: right;\">\n",
              "      <th></th>\n",
              "      <th>Open</th>\n",
              "      <th>High</th>\n",
              "      <th>Low</th>\n",
              "      <th>Adj Close</th>\n",
              "      <th>Volume</th>\n",
              "    </tr>\n",
              "  </thead>\n",
              "  <tbody>\n",
              "    <tr>\n",
              "      <th>0</th>\n",
              "      <td>-1.700095</td>\n",
              "      <td>-1.672409</td>\n",
              "      <td>-1.695026</td>\n",
              "      <td>-1.659976</td>\n",
              "      <td>0.352698</td>\n",
              "    </tr>\n",
              "    <tr>\n",
              "      <th>1</th>\n",
              "      <td>-1.659090</td>\n",
              "      <td>-1.674741</td>\n",
              "      <td>-1.677156</td>\n",
              "      <td>-1.695354</td>\n",
              "      <td>-0.181652</td>\n",
              "    </tr>\n",
              "    <tr>\n",
              "      <th>2</th>\n",
              "      <td>-1.694012</td>\n",
              "      <td>-1.694077</td>\n",
              "      <td>-1.693714</td>\n",
              "      <td>-1.694102</td>\n",
              "      <td>0.797306</td>\n",
              "    </tr>\n",
              "    <tr>\n",
              "      <th>3</th>\n",
              "      <td>-1.691605</td>\n",
              "      <td>-1.642548</td>\n",
              "      <td>-1.675061</td>\n",
              "      <td>-1.630146</td>\n",
              "      <td>0.333574</td>\n",
              "    </tr>\n",
              "    <tr>\n",
              "      <th>4</th>\n",
              "      <td>-1.627847</td>\n",
              "      <td>-1.632205</td>\n",
              "      <td>-1.615220</td>\n",
              "      <td>-1.617436</td>\n",
              "      <td>-0.186783</td>\n",
              "    </tr>\n",
              "    <tr>\n",
              "      <th>...</th>\n",
              "      <td>...</td>\n",
              "      <td>...</td>\n",
              "      <td>...</td>\n",
              "      <td>...</td>\n",
              "      <td>...</td>\n",
              "    </tr>\n",
              "    <tr>\n",
              "      <th>2009</th>\n",
              "      <td>2.266085</td>\n",
              "      <td>2.267808</td>\n",
              "      <td>2.290596</td>\n",
              "      <td>2.274406</td>\n",
              "      <td>0.668569</td>\n",
              "    </tr>\n",
              "    <tr>\n",
              "      <th>2010</th>\n",
              "      <td>2.275638</td>\n",
              "      <td>2.254617</td>\n",
              "      <td>2.274885</td>\n",
              "      <td>2.252140</td>\n",
              "      <td>0.284785</td>\n",
              "    </tr>\n",
              "    <tr>\n",
              "      <th>2011</th>\n",
              "      <td>2.247984</td>\n",
              "      <td>2.236179</td>\n",
              "      <td>2.246113</td>\n",
              "      <td>2.232905</td>\n",
              "      <td>0.404100</td>\n",
              "    </tr>\n",
              "    <tr>\n",
              "      <th>2012</th>\n",
              "      <td>2.241389</td>\n",
              "      <td>2.252084</td>\n",
              "      <td>2.266373</td>\n",
              "      <td>2.266387</td>\n",
              "      <td>0.283386</td>\n",
              "    </tr>\n",
              "    <tr>\n",
              "      <th>2013</th>\n",
              "      <td>2.290106</td>\n",
              "      <td>2.312587</td>\n",
              "      <td>2.315194</td>\n",
              "      <td>2.331483</td>\n",
              "      <td>0.471640</td>\n",
              "    </tr>\n",
              "  </tbody>\n",
              "</table>\n",
              "<p>2014 rows × 5 columns</p>\n",
              "</div>\n",
              "      <button class=\"colab-df-convert\" onclick=\"convertToInteractive('df-fb7949cb-61c1-4d6a-934b-1f75f2d03007')\"\n",
              "              title=\"Convert this dataframe to an interactive table.\"\n",
              "              style=\"display:none;\">\n",
              "        \n",
              "  <svg xmlns=\"http://www.w3.org/2000/svg\" height=\"24px\"viewBox=\"0 0 24 24\"\n",
              "       width=\"24px\">\n",
              "    <path d=\"M0 0h24v24H0V0z\" fill=\"none\"/>\n",
              "    <path d=\"M18.56 5.44l.94 2.06.94-2.06 2.06-.94-2.06-.94-.94-2.06-.94 2.06-2.06.94zm-11 1L8.5 8.5l.94-2.06 2.06-.94-2.06-.94L8.5 2.5l-.94 2.06-2.06.94zm10 10l.94 2.06.94-2.06 2.06-.94-2.06-.94-.94-2.06-.94 2.06-2.06.94z\"/><path d=\"M17.41 7.96l-1.37-1.37c-.4-.4-.92-.59-1.43-.59-.52 0-1.04.2-1.43.59L10.3 9.45l-7.72 7.72c-.78.78-.78 2.05 0 2.83L4 21.41c.39.39.9.59 1.41.59.51 0 1.02-.2 1.41-.59l7.78-7.78 2.81-2.81c.8-.78.8-2.07 0-2.86zM5.41 20L4 18.59l7.72-7.72 1.47 1.35L5.41 20z\"/>\n",
              "  </svg>\n",
              "      </button>\n",
              "      \n",
              "  <style>\n",
              "    .colab-df-container {\n",
              "      display:flex;\n",
              "      flex-wrap:wrap;\n",
              "      gap: 12px;\n",
              "    }\n",
              "\n",
              "    .colab-df-convert {\n",
              "      background-color: #E8F0FE;\n",
              "      border: none;\n",
              "      border-radius: 50%;\n",
              "      cursor: pointer;\n",
              "      display: none;\n",
              "      fill: #1967D2;\n",
              "      height: 32px;\n",
              "      padding: 0 0 0 0;\n",
              "      width: 32px;\n",
              "    }\n",
              "\n",
              "    .colab-df-convert:hover {\n",
              "      background-color: #E2EBFA;\n",
              "      box-shadow: 0px 1px 2px rgba(60, 64, 67, 0.3), 0px 1px 3px 1px rgba(60, 64, 67, 0.15);\n",
              "      fill: #174EA6;\n",
              "    }\n",
              "\n",
              "    [theme=dark] .colab-df-convert {\n",
              "      background-color: #3B4455;\n",
              "      fill: #D2E3FC;\n",
              "    }\n",
              "\n",
              "    [theme=dark] .colab-df-convert:hover {\n",
              "      background-color: #434B5C;\n",
              "      box-shadow: 0px 1px 3px 1px rgba(0, 0, 0, 0.15);\n",
              "      filter: drop-shadow(0px 1px 2px rgba(0, 0, 0, 0.3));\n",
              "      fill: #FFFFFF;\n",
              "    }\n",
              "  </style>\n",
              "\n",
              "      <script>\n",
              "        const buttonEl =\n",
              "          document.querySelector('#df-fb7949cb-61c1-4d6a-934b-1f75f2d03007 button.colab-df-convert');\n",
              "        buttonEl.style.display =\n",
              "          google.colab.kernel.accessAllowed ? 'block' : 'none';\n",
              "\n",
              "        async function convertToInteractive(key) {\n",
              "          const element = document.querySelector('#df-fb7949cb-61c1-4d6a-934b-1f75f2d03007');\n",
              "          const dataTable =\n",
              "            await google.colab.kernel.invokeFunction('convertToInteractive',\n",
              "                                                     [key], {});\n",
              "          if (!dataTable) return;\n",
              "\n",
              "          const docLinkHtml = 'Like what you see? Visit the ' +\n",
              "            '<a target=\"_blank\" href=https://colab.research.google.com/notebooks/data_table.ipynb>data table notebook</a>'\n",
              "            + ' to learn more about interactive tables.';\n",
              "          element.innerHTML = '';\n",
              "          dataTable['output_type'] = 'display_data';\n",
              "          await google.colab.output.renderOutput(dataTable, element);\n",
              "          const docLink = document.createElement('div');\n",
              "          docLink.innerHTML = docLinkHtml;\n",
              "          element.appendChild(docLink);\n",
              "        }\n",
              "      </script>\n",
              "    </div>\n",
              "  </div>\n",
              "  "
            ],
            "text/plain": [
              "          Open      High       Low  Adj Close    Volume\n",
              "0    -1.700095 -1.672409 -1.695026  -1.659976  0.352698\n",
              "1    -1.659090 -1.674741 -1.677156  -1.695354 -0.181652\n",
              "2    -1.694012 -1.694077 -1.693714  -1.694102  0.797306\n",
              "3    -1.691605 -1.642548 -1.675061  -1.630146  0.333574\n",
              "4    -1.627847 -1.632205 -1.615220  -1.617436 -0.186783\n",
              "...        ...       ...       ...        ...       ...\n",
              "2009  2.266085  2.267808  2.290596   2.274406  0.668569\n",
              "2010  2.275638  2.254617  2.274885   2.252140  0.284785\n",
              "2011  2.247984  2.236179  2.246113   2.232905  0.404100\n",
              "2012  2.241389  2.252084  2.266373   2.266387  0.283386\n",
              "2013  2.290106  2.312587  2.315194   2.331483  0.471640\n",
              "\n",
              "[2014 rows x 5 columns]"
            ]
          },
          "metadata": {},
          "execution_count": 63
        }
      ]
    },
    {
      "cell_type": "code",
      "source": [
        "X_train, X_test, y_train, y_test = train_test_split(scaled_df, target, test_size=0.20, random_state=50)\n",
        "print(X_train.shape,\"X_train\")\n",
        "print(X_test.shape,\"X_test\")\n",
        "print(y_train.shape,\"y_train\")\n",
        "print(y_test.shape,\"y_test\")"
      ],
      "metadata": {
        "colab": {
          "base_uri": "https://localhost:8080/"
        },
        "id": "TDOPg9F-jeD9",
        "outputId": "455b2181-872f-4005-b576-7a8064b8a23a"
      },
      "execution_count": 64,
      "outputs": [
        {
          "output_type": "stream",
          "name": "stdout",
          "text": [
            "(1611, 5) X_train\n",
            "(403, 5) X_test\n",
            "(1611,) y_train\n",
            "(403,) y_test\n"
          ]
        }
      ]
    },
    {
      "cell_type": "code",
      "source": [
        "model = Sequential()"
      ],
      "metadata": {
        "id": "PR18Epm9kTNz"
      },
      "execution_count": 98,
      "outputs": []
    },
    {
      "cell_type": "code",
      "source": [
        "model.add(Dense(units = 512, input_shape=(5,), activation=\"relu\", kernel_initializer=\"normal\"))\n",
        "\n",
        "model.add(Dense(units = 256, activation=\"relu\", kernel_initializer=\"normal\"))\n",
        "\n",
        "model.add(Dense(units = 128, activation=\"relu\", kernel_initializer=\"normal\"))\n",
        "\n",
        "model.add(Dense(units = 64, activation=\"relu\", kernel_initializer=\"normal\"))\n",
        "\n",
        "model.add(Dense(units = 1, activation=\"linear\", kernel_initializer=\"normal\"))"
      ],
      "metadata": {
        "id": "qbWa7wMCk4RB"
      },
      "execution_count": 99,
      "outputs": []
    },
    {
      "cell_type": "code",
      "source": [
        "model.compile(loss = \"mean_squared_error\", optimizer=\"adam\", metrics=[\"mse\"])"
      ],
      "metadata": {
        "id": "c-4eD2CNmXEq"
      },
      "execution_count": 100,
      "outputs": []
    },
    {
      "cell_type": "code",
      "source": [
        "model.summary()"
      ],
      "metadata": {
        "colab": {
          "base_uri": "https://localhost:8080/"
        },
        "id": "Pm97BcQPoIu4",
        "outputId": "6da02fc0-30ea-4575-b307-11df9fdd79a1"
      },
      "execution_count": 101,
      "outputs": [
        {
          "output_type": "stream",
          "name": "stdout",
          "text": [
            "Model: \"sequential_1\"\n",
            "_________________________________________________________________\n",
            "Layer (type)                 Output Shape              Param #   \n",
            "=================================================================\n",
            "dense_10 (Dense)             (None, 512)               3072      \n",
            "_________________________________________________________________\n",
            "dense_11 (Dense)             (None, 256)               131328    \n",
            "_________________________________________________________________\n",
            "dense_12 (Dense)             (None, 128)               32896     \n",
            "_________________________________________________________________\n",
            "dense_13 (Dense)             (None, 64)                8256      \n",
            "_________________________________________________________________\n",
            "dense_14 (Dense)             (None, 1)                 65        \n",
            "=================================================================\n",
            "Total params: 175,617\n",
            "Trainable params: 175,617\n",
            "Non-trainable params: 0\n",
            "_________________________________________________________________\n"
          ]
        }
      ]
    },
    {
      "cell_type": "code",
      "source": [
        "train_data = model.fit(X_train, y_train, validation_data = (X_test, y_test), epochs=100,batch_size=35)"
      ],
      "metadata": {
        "colab": {
          "base_uri": "https://localhost:8080/"
        },
        "id": "N4VsuXFqodAe",
        "outputId": "7105a8b5-65dc-4747-9107-63c6f16404a7"
      },
      "execution_count": 102,
      "outputs": [
        {
          "output_type": "stream",
          "name": "stdout",
          "text": [
            "WARNING:tensorflow:Falling back from v2 loop because of error: Failed to find data adapter that can handle input: <class 'pandas.core.frame.DataFrame'>, <class 'NoneType'>\n",
            "Train on 1611 samples, validate on 403 samples\n",
            "Epoch 1/100\n",
            "1611/1611 [==============================] - 0s 242us/sample - loss: 293974164.9460 - mse: 293974144.0000 - val_loss: 285240873.5285 - val_mse: 285240832.0000\n",
            "Epoch 2/100\n",
            "1611/1611 [==============================] - 0s 190us/sample - loss: 162816842.1527 - mse: 162816848.0000 - val_loss: 52485500.1985 - val_mse: 52485500.0000\n",
            "Epoch 3/100\n",
            "1611/1611 [==============================] - 0s 183us/sample - loss: 27327505.6428 - mse: 27327508.0000 - val_loss: 9510585.2519 - val_mse: 9510585.0000\n",
            "Epoch 4/100\n",
            "1611/1611 [==============================] - 0s 177us/sample - loss: 7858827.5707 - mse: 7858827.5000 - val_loss: 6270993.8908 - val_mse: 6270994.0000\n",
            "Epoch 5/100\n",
            "1611/1611 [==============================] - 0s 176us/sample - loss: 5689722.6668 - mse: 5689723.5000 - val_loss: 4411308.6954 - val_mse: 4411309.0000\n",
            "Epoch 6/100\n",
            "1611/1611 [==============================] - 0s 191us/sample - loss: 3987448.3119 - mse: 3987448.0000 - val_loss: 2895571.2928 - val_mse: 2895571.2500\n",
            "Epoch 7/100\n",
            "1611/1611 [==============================] - 0s 202us/sample - loss: 2477101.3951 - mse: 2477101.0000 - val_loss: 1794103.8843 - val_mse: 1794103.8750\n",
            "Epoch 8/100\n",
            "1611/1611 [==============================] - 0s 179us/sample - loss: 1503653.6077 - mse: 1503653.7500 - val_loss: 1448689.6895 - val_mse: 1448689.7500\n",
            "Epoch 9/100\n",
            "1611/1611 [==============================] - 0s 204us/sample - loss: 1210196.3450 - mse: 1210196.5000 - val_loss: 657543.1764 - val_mse: 657543.1250\n",
            "Epoch 10/100\n",
            "1611/1611 [==============================] - 0s 205us/sample - loss: 565755.9969 - mse: 565755.9375 - val_loss: 451610.5150 - val_mse: 451610.5312\n",
            "Epoch 11/100\n",
            "1611/1611 [==============================] - 0s 189us/sample - loss: 389172.2844 - mse: 389172.2500 - val_loss: 351713.5632 - val_mse: 351713.5938\n",
            "Epoch 12/100\n",
            "1611/1611 [==============================] - 0s 178us/sample - loss: 278751.4544 - mse: 278751.4375 - val_loss: 259840.6856 - val_mse: 259840.6875\n",
            "Epoch 13/100\n",
            "1611/1611 [==============================] - 0s 189us/sample - loss: 226709.9806 - mse: 226709.9062 - val_loss: 191526.3200 - val_mse: 191526.3281\n",
            "Epoch 14/100\n",
            "1611/1611 [==============================] - 0s 200us/sample - loss: 159453.2874 - mse: 159453.2969 - val_loss: 154567.2313 - val_mse: 154567.2188\n",
            "Epoch 15/100\n",
            "1611/1611 [==============================] - 0s 181us/sample - loss: 129642.5122 - mse: 129642.5312 - val_loss: 131732.4193 - val_mse: 131732.4219\n",
            "Epoch 16/100\n",
            "1611/1611 [==============================] - 0s 192us/sample - loss: 107259.9679 - mse: 107259.9766 - val_loss: 109435.2588 - val_mse: 109435.2578\n",
            "Epoch 17/100\n",
            "1611/1611 [==============================] - 0s 206us/sample - loss: 89962.5822 - mse: 89962.5781 - val_loss: 95232.3107 - val_mse: 95232.3203\n",
            "Epoch 18/100\n",
            "1611/1611 [==============================] - 0s 185us/sample - loss: 76790.8519 - mse: 76790.8516 - val_loss: 81302.0749 - val_mse: 81302.0625\n",
            "Epoch 19/100\n",
            "1611/1611 [==============================] - 0s 189us/sample - loss: 64876.0754 - mse: 64876.0703 - val_loss: 70342.5464 - val_mse: 70342.5469\n",
            "Epoch 20/100\n",
            "1611/1611 [==============================] - 0s 210us/sample - loss: 59448.4534 - mse: 59448.4609 - val_loss: 63725.2511 - val_mse: 63725.2500\n",
            "Epoch 21/100\n",
            "1611/1611 [==============================] - 0s 199us/sample - loss: 47871.6059 - mse: 47871.6094 - val_loss: 53317.9566 - val_mse: 53317.9492\n",
            "Epoch 22/100\n",
            "1611/1611 [==============================] - 0s 203us/sample - loss: 42213.2943 - mse: 42213.2891 - val_loss: 55540.0551 - val_mse: 55540.0586\n",
            "Epoch 23/100\n",
            "1611/1611 [==============================] - 0s 190us/sample - loss: 37533.5780 - mse: 37533.5742 - val_loss: 42804.3321 - val_mse: 42804.3320\n",
            "Epoch 24/100\n",
            "1611/1611 [==============================] - 0s 192us/sample - loss: 34262.3331 - mse: 34262.3320 - val_loss: 37271.1673 - val_mse: 37271.1680\n",
            "Epoch 25/100\n",
            "1611/1611 [==============================] - 0s 194us/sample - loss: 28079.3295 - mse: 28079.3301 - val_loss: 33855.2390 - val_mse: 33855.2422\n",
            "Epoch 26/100\n",
            "1611/1611 [==============================] - 0s 193us/sample - loss: 26003.5441 - mse: 26003.5488 - val_loss: 31825.9033 - val_mse: 31825.9023\n",
            "Epoch 27/100\n",
            "1611/1611 [==============================] - 1s 342us/sample - loss: 23780.3545 - mse: 23780.3555 - val_loss: 28292.0138 - val_mse: 28292.0156\n",
            "Epoch 28/100\n",
            "1611/1611 [==============================] - 1s 380us/sample - loss: 22437.7783 - mse: 22437.7832 - val_loss: 58635.0292 - val_mse: 58635.0273\n",
            "Epoch 29/100\n",
            "1611/1611 [==============================] - 0s 236us/sample - loss: 48702.4993 - mse: 48702.5039 - val_loss: 25380.8227 - val_mse: 25380.8242\n",
            "Epoch 30/100\n",
            "1611/1611 [==============================] - 0s 193us/sample - loss: 17280.4035 - mse: 17280.4043 - val_loss: 23174.6855 - val_mse: 23174.6855\n",
            "Epoch 31/100\n",
            "1611/1611 [==============================] - 0s 211us/sample - loss: 17419.2974 - mse: 17419.2969 - val_loss: 22321.2784 - val_mse: 22321.2773\n",
            "Epoch 32/100\n",
            "1611/1611 [==============================] - 0s 196us/sample - loss: 15414.4970 - mse: 15414.4990 - val_loss: 18658.1299 - val_mse: 18658.1289\n",
            "Epoch 33/100\n",
            "1611/1611 [==============================] - 0s 191us/sample - loss: 13361.9362 - mse: 13361.9346 - val_loss: 16950.6679 - val_mse: 16950.6680\n",
            "Epoch 34/100\n",
            "1611/1611 [==============================] - 0s 199us/sample - loss: 12324.7536 - mse: 12324.7549 - val_loss: 16737.0730 - val_mse: 16737.0723\n",
            "Epoch 35/100\n",
            "1611/1611 [==============================] - 0s 192us/sample - loss: 11948.0354 - mse: 11948.0361 - val_loss: 15503.0684 - val_mse: 15503.0684\n",
            "Epoch 36/100\n",
            "1611/1611 [==============================] - 0s 193us/sample - loss: 10820.5591 - mse: 10820.5576 - val_loss: 13838.8265 - val_mse: 13838.8252\n",
            "Epoch 37/100\n",
            "1611/1611 [==============================] - 0s 192us/sample - loss: 10222.6679 - mse: 10222.6689 - val_loss: 13852.1456 - val_mse: 13852.1455\n",
            "Epoch 38/100\n",
            "1611/1611 [==============================] - 0s 202us/sample - loss: 9616.2098 - mse: 9616.2090 - val_loss: 12872.7782 - val_mse: 12872.7793\n",
            "Epoch 39/100\n",
            "1611/1611 [==============================] - 0s 201us/sample - loss: 9455.6144 - mse: 9455.6143 - val_loss: 13775.6691 - val_mse: 13775.6709\n",
            "Epoch 40/100\n",
            "1611/1611 [==============================] - 0s 193us/sample - loss: 8855.5588 - mse: 8855.5596 - val_loss: 11646.5157 - val_mse: 11646.5166\n",
            "Epoch 41/100\n",
            "1611/1611 [==============================] - 0s 201us/sample - loss: 8767.7926 - mse: 8767.7930 - val_loss: 11016.5049 - val_mse: 11016.5059\n",
            "Epoch 42/100\n",
            "1611/1611 [==============================] - 0s 194us/sample - loss: 7834.3819 - mse: 7834.3823 - val_loss: 11075.1851 - val_mse: 11075.1846\n",
            "Epoch 43/100\n",
            "1611/1611 [==============================] - 0s 197us/sample - loss: 7290.2356 - mse: 7290.2339 - val_loss: 9615.1720 - val_mse: 9615.1709\n",
            "Epoch 44/100\n",
            "1611/1611 [==============================] - 0s 189us/sample - loss: 6746.8282 - mse: 6746.8291 - val_loss: 9295.4362 - val_mse: 9295.4365\n",
            "Epoch 45/100\n",
            "1611/1611 [==============================] - 0s 190us/sample - loss: 6429.1834 - mse: 6429.1831 - val_loss: 8687.6287 - val_mse: 8687.6279\n",
            "Epoch 46/100\n",
            "1611/1611 [==============================] - 0s 194us/sample - loss: 7045.9842 - mse: 7045.9844 - val_loss: 9554.5949 - val_mse: 9554.5947\n",
            "Epoch 47/100\n",
            "1611/1611 [==============================] - 0s 193us/sample - loss: 6304.1376 - mse: 6304.1372 - val_loss: 7917.1996 - val_mse: 7917.1997\n",
            "Epoch 48/100\n",
            "1611/1611 [==============================] - 0s 216us/sample - loss: 5675.8337 - mse: 5675.8345 - val_loss: 7898.5733 - val_mse: 7898.5728\n",
            "Epoch 49/100\n",
            "1611/1611 [==============================] - 0s 194us/sample - loss: 5745.8911 - mse: 5745.8916 - val_loss: 7199.7609 - val_mse: 7199.7607\n",
            "Epoch 50/100\n",
            "1611/1611 [==============================] - 0s 184us/sample - loss: 5416.4279 - mse: 5416.4263 - val_loss: 6925.6269 - val_mse: 6925.6260\n",
            "Epoch 51/100\n",
            "1611/1611 [==============================] - 0s 176us/sample - loss: 5136.1459 - mse: 5136.1455 - val_loss: 6939.8021 - val_mse: 6939.8022\n",
            "Epoch 52/100\n",
            "1611/1611 [==============================] - 0s 182us/sample - loss: 5110.3934 - mse: 5110.3936 - val_loss: 6512.6844 - val_mse: 6512.6851\n",
            "Epoch 53/100\n",
            "1611/1611 [==============================] - 0s 192us/sample - loss: 4433.7297 - mse: 4433.7295 - val_loss: 7851.9128 - val_mse: 7851.9126\n",
            "Epoch 54/100\n",
            "1611/1611 [==============================] - 0s 202us/sample - loss: 5091.1852 - mse: 5091.1851 - val_loss: 5882.3522 - val_mse: 5882.3525\n",
            "Epoch 55/100\n",
            "1611/1611 [==============================] - 0s 203us/sample - loss: 4279.0996 - mse: 4279.0991 - val_loss: 5705.2398 - val_mse: 5705.2393\n",
            "Epoch 56/100\n",
            "1611/1611 [==============================] - 0s 198us/sample - loss: 4036.5776 - mse: 4036.5779 - val_loss: 5832.6125 - val_mse: 5832.6128\n",
            "Epoch 57/100\n",
            "1611/1611 [==============================] - 0s 208us/sample - loss: 4040.4926 - mse: 4040.4924 - val_loss: 5476.0597 - val_mse: 5476.0596\n",
            "Epoch 58/100\n",
            "1611/1611 [==============================] - 0s 198us/sample - loss: 3748.0254 - mse: 3748.0251 - val_loss: 5232.5394 - val_mse: 5232.5396\n",
            "Epoch 59/100\n",
            "1611/1611 [==============================] - 0s 181us/sample - loss: 4020.7781 - mse: 4020.7788 - val_loss: 5403.8469 - val_mse: 5403.8467\n",
            "Epoch 60/100\n",
            "1611/1611 [==============================] - 0s 198us/sample - loss: 3477.7205 - mse: 3477.7197 - val_loss: 4450.8927 - val_mse: 4450.8926\n",
            "Epoch 61/100\n",
            "1611/1611 [==============================] - 0s 180us/sample - loss: 3366.5499 - mse: 3366.5496 - val_loss: 5618.4618 - val_mse: 5618.4614\n",
            "Epoch 62/100\n",
            "1611/1611 [==============================] - 0s 174us/sample - loss: 3238.9210 - mse: 3238.9211 - val_loss: 4572.8010 - val_mse: 4572.8008\n",
            "Epoch 63/100\n",
            "1611/1611 [==============================] - 0s 179us/sample - loss: 3120.0973 - mse: 3120.0969 - val_loss: 4093.2839 - val_mse: 4093.2837\n",
            "Epoch 64/100\n",
            "1611/1611 [==============================] - 0s 195us/sample - loss: 3004.6738 - mse: 3004.6736 - val_loss: 3783.0422 - val_mse: 3783.0420\n",
            "Epoch 65/100\n",
            "1611/1611 [==============================] - 0s 183us/sample - loss: 2826.4099 - mse: 2826.4099 - val_loss: 4635.6837 - val_mse: 4635.6836\n",
            "Epoch 66/100\n",
            "1611/1611 [==============================] - 0s 185us/sample - loss: 3058.9703 - mse: 3058.9712 - val_loss: 3887.2316 - val_mse: 3887.2314\n",
            "Epoch 67/100\n",
            "1611/1611 [==============================] - 0s 199us/sample - loss: 2986.4565 - mse: 2986.4565 - val_loss: 6145.4862 - val_mse: 6145.4868\n",
            "Epoch 68/100\n",
            "1611/1611 [==============================] - 0s 190us/sample - loss: 3363.5324 - mse: 3363.5320 - val_loss: 4006.4253 - val_mse: 4006.4255\n",
            "Epoch 69/100\n",
            "1611/1611 [==============================] - 0s 196us/sample - loss: 3188.4382 - mse: 3188.4385 - val_loss: 3634.4390 - val_mse: 3634.4392\n",
            "Epoch 70/100\n",
            "1611/1611 [==============================] - 0s 204us/sample - loss: 2445.4357 - mse: 2445.4358 - val_loss: 3845.2819 - val_mse: 3845.2820\n",
            "Epoch 71/100\n",
            "1611/1611 [==============================] - 0s 186us/sample - loss: 2447.6359 - mse: 2447.6357 - val_loss: 2873.1422 - val_mse: 2873.1421\n",
            "Epoch 72/100\n",
            "1611/1611 [==============================] - 0s 199us/sample - loss: 2187.4690 - mse: 2187.4688 - val_loss: 3354.0641 - val_mse: 3354.0642\n",
            "Epoch 73/100\n",
            "1611/1611 [==============================] - 0s 205us/sample - loss: 2220.7981 - mse: 2220.7979 - val_loss: 4172.8763 - val_mse: 4172.8765\n",
            "Epoch 74/100\n",
            "1611/1611 [==============================] - 0s 204us/sample - loss: 2477.6606 - mse: 2477.6604 - val_loss: 3161.6782 - val_mse: 3161.6785\n",
            "Epoch 75/100\n",
            "1611/1611 [==============================] - 0s 210us/sample - loss: 1898.4235 - mse: 1898.4235 - val_loss: 3015.9915 - val_mse: 3015.9912\n",
            "Epoch 76/100\n",
            "1611/1611 [==============================] - 0s 193us/sample - loss: 1842.9669 - mse: 1842.9668 - val_loss: 2561.0997 - val_mse: 2561.0996\n",
            "Epoch 77/100\n",
            "1611/1611 [==============================] - 0s 179us/sample - loss: 2648.4081 - mse: 2648.4082 - val_loss: 2710.4365 - val_mse: 2710.4368\n",
            "Epoch 78/100\n",
            "1611/1611 [==============================] - 0s 205us/sample - loss: 1833.6962 - mse: 1833.6964 - val_loss: 2205.7535 - val_mse: 2205.7537\n",
            "Epoch 79/100\n",
            "1611/1611 [==============================] - 0s 182us/sample - loss: 1774.5018 - mse: 1774.5017 - val_loss: 2860.0816 - val_mse: 2860.0815\n",
            "Epoch 80/100\n",
            "1611/1611 [==============================] - 0s 203us/sample - loss: 1527.2264 - mse: 1527.2266 - val_loss: 2214.1162 - val_mse: 2214.1162\n",
            "Epoch 81/100\n",
            "1611/1611 [==============================] - 0s 207us/sample - loss: 1520.4592 - mse: 1520.4592 - val_loss: 2134.9055 - val_mse: 2134.9055\n",
            "Epoch 82/100\n",
            "1611/1611 [==============================] - 0s 202us/sample - loss: 1509.1111 - mse: 1509.1106 - val_loss: 3532.0900 - val_mse: 3532.0906\n",
            "Epoch 83/100\n",
            "1611/1611 [==============================] - 0s 207us/sample - loss: 1506.8621 - mse: 1506.8621 - val_loss: 2633.8285 - val_mse: 2633.8284\n",
            "Epoch 84/100\n",
            "1611/1611 [==============================] - 0s 204us/sample - loss: 1798.1975 - mse: 1798.1971 - val_loss: 1862.6715 - val_mse: 1862.6715\n",
            "Epoch 85/100\n",
            "1611/1611 [==============================] - 0s 186us/sample - loss: 1333.5799 - mse: 1333.5797 - val_loss: 1799.7666 - val_mse: 1799.7666\n",
            "Epoch 86/100\n",
            "1611/1611 [==============================] - 0s 200us/sample - loss: 1228.3348 - mse: 1228.3347 - val_loss: 1799.9557 - val_mse: 1799.9557\n",
            "Epoch 87/100\n",
            "1611/1611 [==============================] - 0s 199us/sample - loss: 1383.3620 - mse: 1383.3619 - val_loss: 2157.9208 - val_mse: 2157.9207\n",
            "Epoch 88/100\n",
            "1611/1611 [==============================] - 0s 192us/sample - loss: 1404.6061 - mse: 1404.6058 - val_loss: 1924.7347 - val_mse: 1924.7347\n",
            "Epoch 89/100\n",
            "1611/1611 [==============================] - 0s 204us/sample - loss: 1117.1699 - mse: 1117.1700 - val_loss: 1776.6588 - val_mse: 1776.6588\n",
            "Epoch 90/100\n",
            "1611/1611 [==============================] - 0s 185us/sample - loss: 1308.5882 - mse: 1308.5880 - val_loss: 2571.4697 - val_mse: 2571.4697\n",
            "Epoch 91/100\n",
            "1611/1611 [==============================] - 0s 193us/sample - loss: 1512.1338 - mse: 1512.1339 - val_loss: 1380.8967 - val_mse: 1380.8969\n",
            "Epoch 92/100\n",
            "1611/1611 [==============================] - 0s 197us/sample - loss: 1005.3913 - mse: 1005.3915 - val_loss: 1344.4594 - val_mse: 1344.4595\n",
            "Epoch 93/100\n",
            "1611/1611 [==============================] - 0s 189us/sample - loss: 1039.8941 - mse: 1039.8943 - val_loss: 1767.1068 - val_mse: 1767.1068\n",
            "Epoch 94/100\n",
            "1611/1611 [==============================] - 0s 195us/sample - loss: 900.6781 - mse: 900.6782 - val_loss: 1276.5096 - val_mse: 1276.5096\n",
            "Epoch 95/100\n",
            "1611/1611 [==============================] - 0s 180us/sample - loss: 1158.0936 - mse: 1158.0936 - val_loss: 6837.2484 - val_mse: 6837.2485\n",
            "Epoch 96/100\n",
            "1611/1611 [==============================] - 0s 189us/sample - loss: 2383.1300 - mse: 2383.1301 - val_loss: 2960.5355 - val_mse: 2960.5352\n",
            "Epoch 97/100\n",
            "1611/1611 [==============================] - 0s 186us/sample - loss: 1680.1347 - mse: 1680.1350 - val_loss: 1425.6087 - val_mse: 1425.6088\n",
            "Epoch 98/100\n",
            "1611/1611 [==============================] - 0s 178us/sample - loss: 1109.1571 - mse: 1109.1571 - val_loss: 2566.6830 - val_mse: 2566.6829\n",
            "Epoch 99/100\n",
            "1611/1611 [==============================] - 0s 195us/sample - loss: 1146.0158 - mse: 1146.0159 - val_loss: 1304.3991 - val_mse: 1304.3990\n",
            "Epoch 100/100\n",
            "1611/1611 [==============================] - 0s 194us/sample - loss: 672.2290 - mse: 672.2289 - val_loss: 951.7550 - val_mse: 951.7551\n"
          ]
        }
      ]
    },
    {
      "cell_type": "code",
      "source": [
        "y_pred = model.predict(X_test)"
      ],
      "metadata": {
        "colab": {
          "base_uri": "https://localhost:8080/"
        },
        "id": "ViLdBt3VpHBZ",
        "outputId": "faaf9609-0cbf-4655-af2b-2e8e7402721d"
      },
      "execution_count": 109,
      "outputs": [
        {
          "output_type": "stream",
          "name": "stdout",
          "text": [
            "WARNING:tensorflow:Falling back from v2 loop because of error: Failed to find data adapter that can handle input: <class 'pandas.core.frame.DataFrame'>, <class 'NoneType'>\n"
          ]
        }
      ]
    },
    {
      "cell_type": "code",
      "source": [
        "ax = np.arange(0,100)\n",
        "yx = plt.plot(ax,train_data.history[\"loss\"])\n",
        "yx = plt.plot(ax,train_data.history[\"val_loss\"])\n",
        "plt.show()"
      ],
      "metadata": {
        "colab": {
          "base_uri": "https://localhost:8080/",
          "height": 275
        },
        "id": "j-YC0mk_sGJi",
        "outputId": "6561e726-be34-4e1b-a5da-7f75bc2d19b6"
      },
      "execution_count": 110,
      "outputs": [
        {
          "output_type": "display_data",
          "data": {
            "image/png": "[encoded data removed]",
            "text/plain": [
              "<Figure size 432x288 with 1 Axes>"
            ]
          },
          "metadata": {
            "needs_background": "light"
          }
        }
      ]
    },
    {
      "cell_type": "code",
      "source": [
        "r2_score(y_test,y_pred)"
      ],
      "metadata": {
        "colab": {
          "base_uri": "https://localhost:8080/"
        },
        "id": "2Rj69P2XtWCO",
        "outputId": "7e5563fa-cab9-4368-b623-2c23c20e0f34"
      },
      "execution_count": 112,
      "outputs": [
        {
          "output_type": "execute_result",
          "data": {
            "text/plain": [
              "0.9999391423995125"
            ]
          },
          "metadata": {},
          "execution_count": 112
        }
      ]
    },
    {
      "cell_type": "code",
      "source": [
        "y_test.shape, y_pred.shape"
      ],
      "metadata": {
        "colab": {
          "base_uri": "https://localhost:8080/"
        },
        "id": "UEdtha-VzjL4",
        "outputId": "9a8a08c9-3d1c-4667-8598-dc70b7c8f857"
      },
      "execution_count": 115,
      "outputs": [
        {
          "output_type": "execute_result",
          "data": {
            "text/plain": [
              "((403,), (403, 1))"
            ]
          },
          "metadata": {},
          "execution_count": 115
        }
      ]
    },
    {
      "cell_type": "code",
      "source": [
        "y_pred[:,0]"
      ],
      "metadata": {
        "colab": {
          "base_uri": "https://localhost:8080/"
        },
        "id": "zc04BImAz7W7",
        "outputId": "65715179-86f1-4947-cd1d-6360a31ce0a8"
      },
      "execution_count": 124,
      "outputs": [
        {
          "output_type": "execute_result",
          "data": {
            "text/plain": [
              "array([17229.95  , 24720.373 , 13023.816 , 16947.018 , 17583.064 ,\n",
              "       16296.874 , 15541.308 , 24736.248 , 12169.486 , 13425.666 ,\n",
              "       11228.221 , 10768.296 , 17718.12  , 15525.737 , 13107.634 ,\n",
              "       19109.129 , 22761.23  , 11589.609 , 14543.613 , 11815.378 ,\n",
              "       12862.249 , 13213.034 , 17734.951 , 11220.445 , 17939.078 ,\n",
              "       21814.303 , 12869.964 , 17699.898 , 16372.798 , 23481.752 ,\n",
              "       16177.3125, 24237.408 , 25293.363 , 22990.992 , 12463.027 ,\n",
              "       17593.326 , 24603.855 , 18076.553 , 12945.793 , 25334.15  ,\n",
              "       17121.184 , 16546.176 , 12577.303 , 11836.405 , 21997.553 ,\n",
              "       20929.58  , 16518.074 , 22020.805 , 24718.629 , 16034.827 ,\n",
              "       12110.479 , 24380.78  , 16263.964 , 22253.512 , 11571.822 ,\n",
              "       16577.389 , 18038.008 , 16575.715 , 13173.2705, 15330.738 ,\n",
              "       12645.671 , 16861.875 , 17432.75  , 20912.836 , 12084.323 ,\n",
              "       12836.752 , 20040.383 , 16359.95  , 11957.287 , 15295.301 ,\n",
              "       19790.232 , 18185.047 , 17781.508 , 15732.34  , 16131.483 ,\n",
              "       21792.395 , 13014.174 , 16570.418 , 10851.281 , 23323.094 ,\n",
              "       20888.877 , 17700.967 , 15864.45  , 12751.847 , 11881.053 ,\n",
              "       12467.058 , 17756.055 , 12875.233 , 16083.201 , 16282.619 ,\n",
              "       17717.732 , 18052.172 , 24573.42  , 12363.748 , 20470.977 ,\n",
              "       15001.278 , 20619.682 , 24437.04  , 15217.291 , 12320.686 ,\n",
              "       12905.859 , 21766.158 , 10918.15  , 17781.832 , 12745.686 ,\n",
              "       17192.697 , 25320.232 , 12418.607 , 11197.872 , 25791.49  ,\n",
              "       21938.791 , 17451.986 , 16973.775 , 22339.885 , 11473.518 ,\n",
              "       18240.354 , 10975.341 , 12936.287 , 21869.746 , 17544.73  ,\n",
              "       17888.691 , 17942.318 , 12988.139 , 12816.258 , 20389.54  ,\n",
              "       13085.634 , 24185.951 , 11012.108 , 14456.205 , 14575.468 ,\n",
              "       15750.061 , 25532.803 , 12747.033 , 16451.562 , 13629.008 ,\n",
              "       11542.742 , 19079.139 , 15832.783 , 23851.004 , 17563.646 ,\n",
              "       12145.32  , 18282.762 , 18464.31  , 18115.78  , 12378.227 ,\n",
              "       24793.197 , 17656.164 , 13983.541 , 13615.041 , 24974.09  ,\n",
              "       10825.787 , 15425.768 , 13021.881 , 12676.19  , 12760.875 ,\n",
              "       18403.082 , 15922.214 , 18874.879 , 18141.479 , 21632.266 ,\n",
              "       13161.027 , 18526.035 , 17735.467 , 18047.688 , 16306.769 ,\n",
              "       16423.834 , 12466.334 , 11718.923 , 17857.297 , 19839.502 ,\n",
              "       17519.201 , 15429.602 , 21992.81  , 18143.943 , 17718.611 ,\n",
              "       16606.979 , 18530.63  , 18954.658 , 16379.621 , 16228.819 ,\n",
              "       11548.402 , 11300.931 , 12620.921 , 14668.113 , 15307.033 ,\n",
              "       17416.695 , 17803.71  , 11404.017 , 14112.158 , 18029.799 ,\n",
              "       15278.467 , 24761.871 , 10849.789 , 16399.078 , 12090.239 ,\n",
              "       21887.559 , 15216.276 , 21958.834 , 23943.164 , 18464.117 ,\n",
              "       10447.803 , 12965.595 , 13353.941 , 20935.81  , 20542.604 ,\n",
              "       17058.918 , 12711.325 , 11663.052 , 12219.2   , 21402.705 ,\n",
              "       12634.05  , 16154.414 , 16096.226 , 17314.576 , 14510.189 ,\n",
              "       14955.998 , 17150.953 , 11163.377 , 18258.365 , 17943.502 ,\n",
              "       19880.533 , 10889.452 , 16774.879 , 15437.292 , 19779.168 ,\n",
              "       12210.704 , 11592.755 , 10552.93  , 16361.377 , 20041.205 ,\n",
              "       21109.273 , 15756.032 , 13082.514 , 17420.691 , 15841.363 ,\n",
              "       23299.584 , 16934.805 , 14453.887 , 16999.441 , 17636.418 ,\n",
              "       17844.404 , 15647.553 , 12635.258 , 17844.816 , 10779.007 ,\n",
              "       10749.885 , 11142.548 , 16938.686 , 15136.3125, 16525.541 ,\n",
              "       18258.74  , 13062.428 , 15622.598 , 14975.908 , 16253.081 ,\n",
              "       17974.47  , 16282.645 , 19180.092 , 16440.05  , 17591.389 ,\n",
              "       10776.356 , 24424.865 , 13262.101 , 20081.697 , 17445.023 ,\n",
              "       16980.037 , 17554.578 , 16721.016 , 18548.322 , 13338.972 ,\n",
              "       11348.241 , 24815.39  , 17790.5   , 11903.202 , 18004.355 ,\n",
              "       23351.006 , 12484.385 , 19933.719 , 11038.754 , 13176.66  ,\n",
              "       16412.232 , 13979.169 , 14520.198 , 11442.682 , 11533.904 ,\n",
              "       15496.943 , 21009.113 , 16940.654 , 12055.891 , 20144.99  ,\n",
              "       18317.791 , 26467.129 , 20996.74  , 11973.342 , 12624.345 ,\n",
              "       20607.025 , 16215.802 , 20589.607 , 23138.61  , 17587.824 ,\n",
              "       18493.16  , 21377.385 , 17002.646 , 11222.011 , 21863.496 ,\n",
              "       12565.333 , 16414.398 , 17084.701 , 18151.559 , 21552.766 ,\n",
              "       26070.734 , 24626.928 , 17974.133 , 17571.56  , 17827.79  ,\n",
              "       12488.616 , 22028.29  , 18365.707 , 21415.867 , 17799.402 ,\n",
              "       13062.588 , 18316.916 , 18374.244 , 25293.658 , 14706.867 ,\n",
              "       17057.895 , 11130.004 , 17349.398 , 24014.582 , 12330.892 ,\n",
              "       19943.344 , 20087.486 , 18058.168 , 18352.062 , 17476.469 ,\n",
              "       20520.145 , 15372.5205, 21787.898 , 17912.133 , 17744.107 ,\n",
              "       13882.403 , 21829.615 , 11391.4   , 17909.572 , 21681.363 ,\n",
              "       18875.045 , 14065.439 , 12985.095 , 12577.358 , 16118.239 ,\n",
              "       12184.223 , 18138.006 , 25355.752 , 11988.587 , 15007.086 ,\n",
              "       11687.764 , 17462.729 , 23403.787 , 20966.63  , 17982.887 ,\n",
              "       10961.875 , 24907.559 , 14016.349 , 18056.492 , 20974.578 ,\n",
              "       18525.91  , 16376.823 , 15287.3   , 20856.549 , 21411.854 ,\n",
              "       21990.15  , 16783.51  , 18001.807 , 19206.105 , 24791.072 ,\n",
              "       17655.273 , 17828.762 , 26585.174 , 17743.475 , 21349.479 ,\n",
              "       11121.221 , 17198.875 , 15261.962 , 11407.365 , 16511.57  ,\n",
              "       16836.28  , 24758.395 , 12221.077 , 15185.921 , 16091.44  ,\n",
              "       13364.749 , 12834.901 , 16056.511 , 18153.096 , 17933.695 ,\n",
              "       11887.235 , 13541.577 , 16068.174 , 17750.234 , 16593.205 ,\n",
              "       18116.975 , 24911.342 , 12281.279 ], dtype=float32)"
            ]
          },
          "metadata": {},
          "execution_count": 124
        }
      ]
    },
    {
      "cell_type": "code",
      "source": [
        "sns.scatterplot(y_test, y_pred[:,0])"
      ],
      "metadata": {
        "colab": {
          "base_uri": "https://localhost:8080/",
          "height": 354
        },
        "id": "RzcvcWe-wg83",
        "outputId": "c16a6009-6eab-4661-e94c-29051d5f6e55"
      },
      "execution_count": 122,
      "outputs": [
        {
          "output_type": "stream",
          "name": "stderr",
          "text": [
            "/usr/local/lib/python3.7/dist-packages/seaborn/_decorators.py:43: FutureWarning: Pass the following variables as keyword args: x, y. From version 0.12, the only valid positional argument will be `data`, and passing other arguments without an explicit keyword will result in an error or misinterpretation.\n",
            "  FutureWarning\n"
          ]
        },
        {
          "output_type": "execute_result",
          "data": {
            "text/plain": [
              "<matplotlib.axes._subplots.AxesSubplot at 0x7f29b0571b90>"
            ]
          },
          "metadata": {},
          "execution_count": 122
        },
        {
          "output_type": "display_data",
          "data": {
            "image/png": "[encoded data removed]",
            "text/plain": [
              "<Figure size 432x288 with 1 Axes>"
            ]
          },
          "metadata": {
            "needs_background": "light"
          }
        }
      ]
    }
  ]
}